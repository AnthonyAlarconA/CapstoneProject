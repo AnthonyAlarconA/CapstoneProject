{
 "cells": [
  {
   "cell_type": "markdown",
   "metadata": {},
   "source": [
    "# Capstone Project: Where to open my business?"
   ]
  },
  {
   "cell_type": "markdown",
   "metadata": {},
   "source": [
    "### Introduction/Business Problem\n",
    "\n",
    "The success of a business depends a lot on its location. The street, the orientation and the views are fundamental. But so is the economic activity that is in the vicinity. Currently, the location of a company or mall is very important because it is a key factor for the generation of profits. That is why many entrepreneurs and entrepreneurs come to tools and market analysis that allow them to define the place.\n",
    "\n",
    "A very important decision, after having chosen the product you will sell, is the geographical place where you will offer it. Your choice of this site can mean the success or failure of your business. Here's the business problem: Is there a tool or solution that helps entrepreneurs define the location of their business?\n",
    "\n",
    "For this case, we will focus on a group of entrepreneurs who decide to open a pastry shop in Santiago de Surco - Lima, Peru.\n",
    "\n",
    " Pastry shops or candy stores benefit from impulse buying and it is important to be in areas of high traffic:\n",
    "\n",
    "- Near a schools. For the snack, the aperitif of the recess or a sweet to the exit.\n",
    "\n",
    "- Residential areas. To satisfy the demand of children's whims or those weekend food cakes.\n",
    "\n",
    "- Commercial areas. Impulse purchases need a lot of traffic."
   ]
  },
  {
   "cell_type": "code",
   "execution_count": null,
   "metadata": {},
   "outputs": [],
   "source": []
  }
 ],
 "metadata": {
  "kernelspec": {
   "display_name": "Python 3",
   "language": "python",
   "name": "python3"
  },
  "language_info": {
   "codemirror_mode": {
    "name": "ipython",
    "version": 3
   },
   "file_extension": ".py",
   "mimetype": "text/x-python",
   "name": "python",
   "nbconvert_exporter": "python",
   "pygments_lexer": "ipython3",
   "version": "3.6.8"
  }
 },
 "nbformat": 4,
 "nbformat_minor": 2
}
