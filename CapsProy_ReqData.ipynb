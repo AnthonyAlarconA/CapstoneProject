{
 "cells": [
  {
   "cell_type": "markdown",
   "metadata": {},
   "source": [
    "# Capstone Project: Where to open my business?"
   ]
  },
  {
   "cell_type": "markdown",
   "metadata": {},
   "source": [
    "### Required data\n",
    "\n",
    "In order to provide a tool alternative to define the location of a business, Foursquare location data will be used.\n",
    "\n",
    "Foursquare is a technology company that uses smart location to build a meaningful consumer experience and business solutions.\n",
    "\n",
    "For the present case, we will use the district of Santiago de Surco and we will analyze the most visited places by the people. As it was explained, for this purpose the Foursquare service will be used:\n",
    "\n",
    "Example:\n",
    "- District: Santiago de Surco, Lima - Peru\n",
    "- Latitude: -12.1251049\n",
    "- Length: -76.9819193843966\n",
    "\n",
    "This information will be key to analyze through the incorporation of geospatial points."
   ]
  },
  {
   "cell_type": "code",
   "execution_count": null,
   "metadata": {},
   "outputs": [],
   "source": []
  }
 ],
 "metadata": {
  "kernelspec": {
   "display_name": "Python 3",
   "language": "python",
   "name": "python3"
  },
  "language_info": {
   "codemirror_mode": {
    "name": "ipython",
    "version": 3
   },
   "file_extension": ".py",
   "mimetype": "text/x-python",
   "name": "python",
   "nbconvert_exporter": "python",
   "pygments_lexer": "ipython3",
   "version": "3.6.8"
  }
 },
 "nbformat": 4,
 "nbformat_minor": 2
}
